{
 "cells": [
  {
   "cell_type": "markdown",
   "metadata": {},
   "source": [
    "# Continuous Control\n",
    "\n",
    "---\n",
    "\n",
    "In this notebook, you will learn how to use the Unity ML-Agents environment for the second project of the [Deep Reinforcement Learning Nanodegree](https://www.udacity.com/course/deep-reinforcement-learning-nanodegree--nd893) program.\n",
    "\n",
    "### 1. Start the Environment\n",
    "\n",
    "We begin by importing the necessary packages.  If the code cell below returns an error, please revisit the project instructions to double-check that you have installed [Unity ML-Agents](https://github.com/Unity-Technologies/ml-agents/blob/master/docs/Installation.md) and [NumPy](http://www.numpy.org/)."
   ]
  },
  {
   "cell_type": "code",
   "execution_count": 1,
   "metadata": {},
   "outputs": [],
   "source": [
    "from unityagents import UnityEnvironment\n",
    "import numpy as np"
   ]
  },
  {
   "cell_type": "markdown",
   "metadata": {},
   "source": [
    "Next, we will start the environment!  **_Before running the code cell below_**, change the `file_name` parameter to match the location of the Unity environment that you downloaded.\n",
    "\n",
    "- **Mac**: `\"path/to/Reacher.app\"`\n",
    "- **Windows** (x86): `\"path/to/Reacher_Windows_x86/Reacher.exe\"`\n",
    "- **Windows** (x86_64): `\"path/to/Reacher_Windows_x86_64/Reacher.exe\"`\n",
    "- **Linux** (x86): `\"path/to/Reacher_Linux/Reacher.x86\"`\n",
    "- **Linux** (x86_64): `\"path/to/Reacher_Linux/Reacher.x86_64\"`\n",
    "- **Linux** (x86, headless): `\"path/to/Reacher_Linux_NoVis/Reacher.x86\"`\n",
    "- **Linux** (x86_64, headless): `\"path/to/Reacher_Linux_NoVis/Reacher.x86_64\"`\n",
    "\n",
    "For instance, if you are using a Mac, then you downloaded `Reacher.app`.  If this file is in the same folder as the notebook, then the line below should appear as follows:\n",
    "```\n",
    "env = UnityEnvironment(file_name=\"Reacher.app\")\n",
    "```"
   ]
  },
  {
   "cell_type": "code",
   "execution_count": 2,
   "metadata": {},
   "outputs": [
    {
     "name": "stderr",
     "output_type": "stream",
     "text": [
      "INFO:unityagents:\n",
      "'Academy' started successfully!\n",
      "Unity Academy name: Academy\n",
      "        Number of Brains: 1\n",
      "        Number of External Brains : 1\n",
      "        Lesson number : 0\n",
      "        Reset Parameters :\n",
      "\t\tgoal_size -> 5.0\n",
      "\t\tgoal_speed -> 1.0\n",
      "Unity brain name: ReacherBrain\n",
      "        Number of Visual Observations (per agent): 0\n",
      "        Vector Observation space type: continuous\n",
      "        Vector Observation space size (per agent): 33\n",
      "        Number of stacked Vector Observation: 1\n",
      "        Vector Action space type: continuous\n",
      "        Vector Action space size (per agent): 4\n",
      "        Vector Action descriptions: , , , \n"
     ]
    }
   ],
   "source": [
    "env = UnityEnvironment(file_name='Reacher_Windows_x86_64/Reacher.exe')"
   ]
  },
  {
   "cell_type": "markdown",
   "metadata": {},
   "source": [
    "Environments contain **_brains_** which are responsible for deciding the actions of their associated agents. Here we check for the first brain available, and set it as the default brain we will be controlling from Python."
   ]
  },
  {
   "cell_type": "code",
   "execution_count": 3,
   "metadata": {},
   "outputs": [],
   "source": [
    "# get the default brain\n",
    "brain_name = env.brain_names[0]\n",
    "brain = env.brains[brain_name]"
   ]
  },
  {
   "cell_type": "markdown",
   "metadata": {},
   "source": [
    "### 2. Examine the State and Action Spaces\n",
    "\n",
    "In this environment, a double-jointed arm can move to target locations. A reward of `+0.1` is provided for each step that the agent's hand is in the goal location. Thus, the goal of your agent is to maintain its position at the target location for as many time steps as possible.\n",
    "\n",
    "The observation space consists of `33` variables corresponding to position, rotation, velocity, and angular velocities of the arm.  Each action is a vector with four numbers, corresponding to torque applicable to two joints.  Every entry in the action vector must be a number between `-1` and `1`.\n",
    "\n",
    "Run the code cell below to print some information about the environment."
   ]
  },
  {
   "cell_type": "code",
   "execution_count": 4,
   "metadata": {},
   "outputs": [
    {
     "name": "stdout",
     "output_type": "stream",
     "text": [
      "Number of agents: 20\n",
      "Size of each action: 4\n",
      "There are 20 agents. Each observes a state with length: 33\n",
      "The state for the first agent looks like: [ 0.00000000e+00 -4.00000000e+00  0.00000000e+00  1.00000000e+00\n",
      " -0.00000000e+00 -0.00000000e+00 -4.37113883e-08  0.00000000e+00\n",
      "  0.00000000e+00  0.00000000e+00  0.00000000e+00  0.00000000e+00\n",
      "  0.00000000e+00  0.00000000e+00 -1.00000000e+01  0.00000000e+00\n",
      "  1.00000000e+00 -0.00000000e+00 -0.00000000e+00 -4.37113883e-08\n",
      "  0.00000000e+00  0.00000000e+00  0.00000000e+00  0.00000000e+00\n",
      "  0.00000000e+00  0.00000000e+00  5.75471878e+00 -1.00000000e+00\n",
      "  5.55726624e+00  0.00000000e+00  1.00000000e+00  0.00000000e+00\n",
      " -1.68164849e-01]\n"
     ]
    }
   ],
   "source": [
    "# reset the environment\n",
    "env_info = env.reset(train_mode=True)[brain_name]\n",
    "\n",
    "# number of agents\n",
    "num_agents = len(env_info.agents)\n",
    "print('Number of agents:', num_agents)\n",
    "\n",
    "# size of each action\n",
    "action_size = brain.vector_action_space_size\n",
    "print('Size of each action:', action_size)\n",
    "\n",
    "# examine the state space \n",
    "states = env_info.vector_observations\n",
    "state_size = states.shape[1]\n",
    "print('There are {} agents. Each observes a state with length: {}'.format(states.shape[0], state_size))\n",
    "print('The state for the first agent looks like:', states[0])"
   ]
  },
  {
   "cell_type": "markdown",
   "metadata": {},
   "source": [
    "### 3. Take Random Actions in the Environment\n",
    "\n",
    "In the next code cell, you will learn how to use the Python API to control the agent and receive feedback from the environment.\n",
    "\n",
    "Once this cell is executed, you will watch the agent's performance, if it selects an action at random with each time step.  A window should pop up that allows you to observe the agent, as it moves through the environment.  \n",
    "\n",
    "Of course, as part of the project, you'll have to change the code so that the agent is able to use its experience to gradually choose better actions when interacting with the environment!"
   ]
  },
  {
   "cell_type": "code",
   "execution_count": 5,
   "metadata": {},
   "outputs": [
    {
     "name": "stdout",
     "output_type": "stream",
     "text": [
      "Total score (averaged over agents) this episode: 0.036999999172985555\n"
     ]
    }
   ],
   "source": [
    "env_info = env.reset(train_mode=False)[brain_name]     # reset the environment    \n",
    "states = env_info.vector_observations                  # get the current state (for each agent)\n",
    "scores = np.zeros(num_agents)                          # initialize the score (for each agent)\n",
    "max_t = 1000\n",
    "for t in range(max_t):\n",
    "    actions = np.random.randn(num_agents, action_size) # select an action (for each agent)\n",
    "    actions = np.clip(actions, -1, 1)                  # all actions between -1 and 1\n",
    "    env_info = env.step(actions)[brain_name]           # send all actions to tne environment\n",
    "    next_states = env_info.vector_observations         # get next state (for each agent)\n",
    "    rewards = env_info.rewards                         # get reward (for each agent)\n",
    "    dones = env_info.local_done                        # see if episode finished\n",
    "    scores += env_info.rewards                         # update the score (for each agent)\n",
    "    states = next_states                               # roll over states to next time step\n",
    "    if np.any(dones):                                  # exit loop if episode finished\n",
    "        break\n",
    "print('Total score (averaged over agents) this episode: {}'.format(np.mean(scores)))"
   ]
  },
  {
   "cell_type": "markdown",
   "metadata": {},
   "source": [
    "### 4. Algorithm\n",
    "\n",
    "In this notebook, the agents were trained using the DDPG algorithm as described in [this paper](https://arxiv.org/abs/1509.02971). Details of the implementation are as follows:\n",
    "\n",
    "* **Neural network architectures**  \n",
    "\n",
    "    The Actor(policy) network architecture is a multilayer perceptron (MLP) network with 2 hidden layers. The 1st hidden layer had 400 hidden units and the 2nd hidden layer had 300 hidden units. Relu was used as activation function after each hidden layer. The final output layer used a tanh layer to bound the actions.\n",
    "\n",
    "    The Critic(value) network architecture is also a multilayer perceptron (MLP) network with 2 hidden layers. The 1st hidden layer had 400 hidden units. Then, actions vector were concatenated with the output of the 1st hidden layer to feed into the 2nd hidden layer. The 2nd hidden layer had 300 hidden units. Relu was used as activation function after each hidden layer. The final output layer has a single unit.\n",
    "\n",
    "    The final layer weights of both the actor and critic network were initialized from a uniform distribution [-3e-3, 3e-3]. This was to ensure the initial outputs for the policy and value estimates were near zero. The other layers were initialized from uniform distributions [-1/sqrt(f), 1/sqrt(f)], where f is the number of input units of the layer.  \n",
    "\n",
    "\n",
    "* **Hyperparameter**\n",
    "    * Experience replay buffer size = 1e5\n",
    "    * Minibatch size = 128\n",
    "    * Discount factor = 0.99\n",
    "    * Soft update parameter $\\tau$ = 1e-3              \n",
    "    * Actor learning rate = 1e-4         \n",
    "    * Critic learning rate = 1e-3         \n",
    "    * L2 weight decay rate = 0         \n",
    "    * Update the networks 10 times for every 20 timesteps  \n",
    "    \n",
    "    \n",
    "* **Methods to improve training stability**\n",
    "    - **use gradient clipping**  \n",
    "    Gradient clipping was applied to the critic network during training as follows:\n",
    "    ```\n",
    "    critic_loss.backward()\n",
    "    torch.nn.utils.clip_grad_norm(self.critic_local.parameters(), 1)\n",
    "    self.critic_optimizer.step()\n",
    "    ```\n",
    "    - **update networks infrequently**  \n",
    "    To stablize training, both actor and critic networks were updated after 20 timesteps instead of every timestep."
   ]
  },
  {
   "cell_type": "markdown",
   "metadata": {},
   "source": [
    "### 5. Experiments and results"
   ]
  },
  {
   "cell_type": "code",
   "execution_count": 6,
   "metadata": {},
   "outputs": [],
   "source": [
    "# Instantiate the Environment and Agent\n",
    "from ddpg_multiagent import Agent\n",
    "\n",
    "agent = Agent(num_agents=num_agents, state_size=state_size, action_size=action_size, seed=0)\n",
    "env_info = env.reset(train_mode=True)[brain_name]"
   ]
  },
  {
   "cell_type": "markdown",
   "metadata": {},
   "source": [
    "### 5a.Train the Agent with DDPG"
   ]
  },
  {
   "cell_type": "code",
   "execution_count": 7,
   "metadata": {},
   "outputs": [
    {
     "name": "stdout",
     "output_type": "stream",
     "text": [
      "Episode 100\tAverage Score: 9.51\tTime lapsed: 15.0min\n",
      "Episode 200\tAverage Score: 33.02\tTime lapsed: 29.5min\n",
      "Episode 225\tAverage Score: 35.04\tTime lapsed: 33.2min\n",
      "Environment solved in 125 episodes!\tAverage Score: 35.04\n"
     ]
    },
    {
     "data": {
      "image/png": "[encoded data removed]",
      "text/plain": [
       "<Figure size 432x288 with 1 Axes>"
      ]
     },
     "metadata": {
      "needs_background": "light"
     },
     "output_type": "display_data"
    }
   ],
   "source": [
    "import torch\n",
    "import numpy as np\n",
    "from time import time\n",
    "from collections import deque\n",
    "import matplotlib.pyplot as plt\n",
    "%matplotlib inline\n",
    "\n",
    "def ddpg(n_episodes=2000, max_t=1000, print_every=100):\n",
    "    \"\"\"DDPG\n",
    "    \n",
    "    Params\n",
    "    ======\n",
    "        n_episodes (int): maximum number of training episodes\n",
    "        max_t (int): maximum number of timesteps per episode\n",
    "        print_every (int): print scores every 'print_every' episodes\n",
    "    \"\"\"\n",
    "    mean_scores = []                        # list containing mean scores from each episode\n",
    "    mean_scores_window = deque(maxlen=100)  # last 100 scores\n",
    "    t1 = time()\n",
    "    for i_episode in range(1, n_episodes+1):\n",
    "        agent.reset()\n",
    "        env_info = env.reset(train_mode=True)[brain_name] # reset the environment\n",
    "        states = env_info.vector_observations \n",
    "        scores = np.zeros(num_agents)\n",
    "        for t in range(max_t):\n",
    "            actions = agent.act(states)\n",
    "            env_info = env.step(actions)[brain_name]\n",
    "            next_states = env_info.vector_observations   # get the next states\n",
    "            rewards = env_info.rewards                   # get the rewards\n",
    "            dones = env_info.local_done \n",
    "            agent.step(states, actions, rewards, next_states, dones)\n",
    "            states = next_states\n",
    "            scores += rewards\n",
    "            if all(dones):\n",
    "                break \n",
    "        mean_scores_window.append(np.mean(scores))       # save most recent scores\n",
    "        mean_scores.append(np.mean(scores))              # save most recent scores\n",
    "        t2 = (time()-t1)/60\n",
    "        print('\\rEpisode {}\\tAverage Score: {:.2f}\\tTime lapsed: {:.1f}min'.format(i_episode, np.mean(mean_scores_window), t2), end=\"\")\n",
    "        if i_episode % print_every == 0:\n",
    "            print('\\rEpisode {}\\tAverage Score: {:.2f}\\tTime lapsed: {:.1f}min'.format(i_episode, np.mean(mean_scores_window), t2))\n",
    "        if np.mean(mean_scores_window)>=35:\n",
    "            print('\\nEnvironment solved in {:d} episodes!\\tAverage Score: {:.2f}'.format(i_episode-100, np.mean(mean_scores_window)))\n",
    "            torch.save(agent.actor_local.state_dict(), 'checkpoint_actor_gpu.pth')\n",
    "            torch.save(agent.critic_local.state_dict(), 'checkpoint_critic_gpu.pth')\n",
    "            break\n",
    "    return mean_scores\n",
    "\n",
    "mean_scores = ddpg()\n",
    "\n",
    "fig = plt.figure()\n",
    "ax = fig.add_subplot(111)\n",
    "plt.plot(np.arange(1, len(mean_scores)+1), mean_scores)\n",
    "plt.ylabel('Score')\n",
    "plt.xlabel('Episode #')\n",
    "plt.show()"
   ]
  },
  {
   "cell_type": "markdown",
   "metadata": {},
   "source": [
    "###  5b. Evaluate the trained Agent"
   ]
  },
  {
   "cell_type": "code",
   "execution_count": 8,
   "metadata": {},
   "outputs": [
    {
     "name": "stdout",
     "output_type": "stream",
     "text": [
      "Episode: 0\tMean score: 37.39299916420132\n",
      "Episode: 1\tMean score: 37.430999163351956\n",
      "Episode: 2\tMean score: 38.147999147325756\n",
      "Episode: 3\tMean score: 36.81999917700887\n",
      "Episode: 4\tMean score: 37.28299916666001\n"
     ]
    }
   ],
   "source": [
    "# load the weights from file\n",
    "agent.actor_local.load_state_dict(torch.load('checkpoint_actor_gpu.pth'))\n",
    "agent.critic_local.load_state_dict(torch.load('checkpoint_critic_gpu.pth'))\n",
    "\n",
    "# play 5 episodes by the ddpg trained agent\n",
    "for i in range(5):\n",
    "    env_info = env.reset(train_mode=False)[brain_name] # reset the environment\n",
    "    states = env_info.vector_observations            # get the current state\n",
    "    scores = np.zeros(num_agents)                   # initialize the score\n",
    "    max_t = 1000\n",
    "    for t in range(max_t):\n",
    "        actions = agent.act(states)                      # select actions\n",
    "        env_info = env.step(actions)[brain_name]        # send the actions to the environment\n",
    "        next_states = env_info.vector_observations   # get the next states\n",
    "        rewards = env_info.rewards                   # get the rewards\n",
    "        dones = env_info.local_done                  # see if episodes have finished\n",
    "        scores += rewards                                # update the scores\n",
    "        states = next_states                             # roll over the states to next time step\n",
    "        if all(dones):                                       # exit loop if all episodes finished\n",
    "            break\n",
    "    print(\"Episode: {}\\tMean score: {}\".format(i, np.mean(scores)))"
   ]
  },
  {
   "cell_type": "markdown",
   "metadata": {},
   "source": [
    "### 5c. Watch the intelligent Agent play\n",
    "As can be seen in the movie clip below, the intelligent agents were able to follow the moving targets (rotating green ball) most of the time without losing contact."
   ]
  },
  {
   "cell_type": "markdown",
   "metadata": {},
   "source": [
    "![SegmentLocal](reacher.gif \"segment\")"
   ]
  },
  {
   "cell_type": "markdown",
   "metadata": {},
   "source": [
    "### 6. Conclusion  \n",
    "\n",
    "In this project, we solved the reacher environment in 125 episodes. The training agents got average scores of above 35 in 100 consecutive episodes. To evaluate the trained model, we loaded new agents with network weights from the saved model. The reloaded agents were able to achieve average scores of ~37.3, well above the benchmark score of 30 in all of the first 5 episodes. "
   ]
  },
  {
   "cell_type": "markdown",
   "metadata": {},
   "source": [
    "### 7. Close the environment"
   ]
  },
  {
   "cell_type": "code",
   "execution_count": 10,
   "metadata": {},
   "outputs": [],
   "source": [
    "env.close()"
   ]
  },
  {
   "cell_type": "markdown",
   "metadata": {},
   "source": [
    "### 8. Future work\n",
    "1. In this work, the hyperparameters for network initialization, learning rates, soft update parameter etc. were directly borrowed from the [DDPG paper](https://arxiv.org/abs/1509.02971). Fine-tuning those parameters specifically for this environments might boost the agents performance further.\n",
    "2. Batch normalization technique was not used in the current implementation of the actor or critic networks. According to the [DDPG paper](https://arxiv.org/abs/1509.02971), batch normalization can minimize covariance shift and therefore stablize training. Adding batch normalization layers to the actor or critic networks may be beneficial to the networks' performance.\n",
    "3. DQN algorithm is known to tend to over-estimate state-action value functions. Using double Q-learning algorithm as the estimator of state-action value functions (the critic) may provide more accurate value function estimates and stablize learning. "
   ]
  }
 ],
 "metadata": {
  "kernelspec": {
   "display_name": "Python 3",
   "language": "python",
   "name": "python3"
  },
  "language_info": {
   "codemirror_mode": {
    "name": "ipython",
    "version": 3
   },
   "file_extension": ".py",
   "mimetype": "text/x-python",
   "name": "python",
   "nbconvert_exporter": "python",
   "pygments_lexer": "ipython3",
   "version": "3.6.4"
  }
 },
 "nbformat": 4,
 "nbformat_minor": 2
}
